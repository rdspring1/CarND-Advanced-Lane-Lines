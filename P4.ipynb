{
 "cells": [
  {
   "cell_type": "markdown",
   "metadata": {},
   "source": [
    "* Compute the camera calibration matrix and distortion coefficients given a set of chessboard images.\n",
    "* Apply a distortion correction to raw images.\n",
    "* Use color transforms, gradients, etc., to create a thresholded binary image.\n",
    "* Apply a perspective transform to rectify binary image (\"birds-eye view\").\n",
    "* Detect lane pixels and fit to find the lane boundary.\n",
    "* Determine the curvature of the lane and vehicle position with respect to center.\n",
    "* Warp the detected lane boundaries back onto the original image.\n",
    "* Output visual display of the lane boundaries and numerical estimation of lane curvature and vehicle position."
   ]
  },
  {
   "cell_type": "code",
   "execution_count": null,
   "metadata": {
    "collapsed": true
   },
   "outputs": [],
   "source": [
    "import os\n",
    "import glob\n",
    "import numpy as np\n",
    "import cv2\n",
    "import matplotlib.pyplot as plt\n",
    "import matplotlib.image as mpimg\n",
    "%matplotlib inline"
   ]
  },
  {
   "cell_type": "code",
   "execution_count": null,
   "metadata": {
    "collapsed": false
   },
   "outputs": [],
   "source": [
    "\"\"\"\n",
    "    Compute the camera calibration matrix and distortion coefficients given a set of chessboard images.\n",
    "\"\"\"\n",
    "nx = 9\n",
    "ny = 6\n",
    "height = 720\n",
    "width = 1280\n",
    "\n",
    "imgpoints = []\n",
    "objpoints = []\n",
    "objp = np.zeros((nx*ny, 3), np.float32)\n",
    "objp[:,:2] = np.mgrid[0:nx, 0:ny].T.reshape(-1, 2)\n",
    "\n",
    "images = glob.glob(\"camera_cal/calibration*.jpg\")\n",
    "for fname in images:\n",
    "    img = cv2.imread(fname)\n",
    "    gray = cv2.cvtColor(img, cv2.COLOR_BGR2GRAY)\n",
    "    ret, corners = cv2.findChessboardCorners(gray, (nx, ny), None)\n",
    "    \n",
    "    # If found, draw corners\n",
    "    if ret == True:\n",
    "        imgpoints.append(corners)\n",
    "        objpoints.append(objp)\n",
    "ret, mtx, dist, rvecs, tvecs = cv2.calibrateCamera(objpoints, imgpoints, (width, height), None, None)"
   ]
  },
  {
   "cell_type": "code",
   "execution_count": null,
   "metadata": {
    "collapsed": true
   },
   "outputs": [],
   "source": [
    "def undistort(img, mtx, dist):\n",
    "    \"\"\"\n",
    "        Apply a distortion correction to raw images\n",
    "    \"\"\"\n",
    "    undist = cv2.undistort(img, mtx, dist, None, mtx)\n",
    "    return undist"
   ]
  },
  {
   "cell_type": "code",
   "execution_count": null,
   "metadata": {
    "collapsed": false
   },
   "outputs": [],
   "source": [
    "img = cv2.imread('camera_cal/calibration1.jpg')\n",
    "undist = undistort(img, mtx, dist)\n",
    "\n",
    "f, (ax1, ax2) = plt.subplots(1, 2, figsize=(32, 32))\n",
    "f.tight_layout()\n",
    "ax1.imshow(img)\n",
    "ax1.set_title('Original Image', fontsize=50)\n",
    "ax2.imshow(undist)\n",
    "ax2.set_title('Undistorted Image', fontsize=50)"
   ]
  },
  {
   "cell_type": "code",
   "execution_count": null,
   "metadata": {
    "collapsed": true
   },
   "outputs": [],
   "source": [
    "def region_of_interest(img):\n",
    "    \"\"\"\n",
    "    Applies an image mask.\n",
    "    \n",
    "    Only keeps the region of the image defined by the polygon\n",
    "    formed from `vertices`. The rest of the image is set to black.\n",
    "    \"\"\"\n",
    "    #defining a blank mask to start with\n",
    "    mask = np.zeros_like(img)\n",
    "    imshape = img.shape\n",
    "    vertices = np.array([[(150,imshape[0]),(imshape[1]/2-45, imshape[0]/2+85), (imshape[1]/2+100, imshape[0]/2+85), (imshape[1]-50,imshape[0])]], dtype=np.int32)\n",
    "    \n",
    "    #defining a 3 channel or 1 channel color to fill the mask with depending on the input image\n",
    "    if len(img.shape) > 2:\n",
    "        channel_count = img.shape[2]  # i.e. 3 or 4 depending on your image\n",
    "        ignore_mask_color = (255,) * channel_count\n",
    "    else:\n",
    "        ignore_mask_color = 255\n",
    "        \n",
    "    #filling pixels inside the polygon defined by \"vertices\" with the fill color    \n",
    "    cv2.fillPoly(mask, vertices, ignore_mask_color)\n",
    "    \n",
    "    #returning the image only where mask pixels are nonzero\n",
    "    masked_image = cv2.bitwise_and(img, mask)\n",
    "    return masked_image"
   ]
  },
  {
   "cell_type": "code",
   "execution_count": null,
   "metadata": {
    "collapsed": false
   },
   "outputs": [],
   "source": [
    "def threshold(img):\n",
    "    \"\"\"\n",
    "        Use color transforms, gradients, etc., to create a thresholded binary image.\n",
    "    \"\"\"    \n",
    "    img_cpy = np.copy(img)\n",
    "    g_channel = img_cpy[:,:,1]\n",
    "    r_channel = img_cpy[:,:,2]\n",
    "    \n",
    "    # Convert to HSV color space\n",
    "    hsv = cv2.cvtColor(img_cpy, cv2.COLOR_BGR2HLS).astype(np.float)\n",
    "    h_channel = hsv[:,:,0]\n",
    "    l_channel = hsv[:,:,1]\n",
    "    s_channel = hsv[:,:,2]\n",
    "    \n",
    "    # Threshold Hue channel\n",
    "    yellow_h_thresh=(0, 45)\n",
    "    yellow_s_thresh = (50, 255)\n",
    "    yellow_l_thresh = (50, 255)\n",
    "    yellow_binary = np.zeros_like(h_channel)\n",
    "    yellow_binary[(s_channel >= yellow_s_thresh[0]) & (s_channel <= yellow_s_thresh[1])\n",
    "             & (l_channel >= yellow_l_thresh[0]) & (l_channel <= yellow_l_thresh[1]) \n",
    "             & (h_channel >= yellow_h_thresh[0]) & (h_channel <= yellow_h_thresh[1])] = 1\n",
    "\n",
    "    # Threshold Saturation channel\n",
    "    s_thresh=(50, 255)\n",
    "    s_binary = np.zeros_like(s_channel)\n",
    "    s_binary[(s_channel >= s_thresh[0]) & (s_channel <= s_thresh[1])] = 1\n",
    "    \n",
    "    # Threshold Lightness channel\n",
    "    l_thresh=(150, 255)\n",
    "    l_binary = np.zeros_like(l_channel)\n",
    "    l_binary[(s_channel >= 15) & (l_channel >= l_thresh[0]) & (l_channel <= l_thresh[1])] = 1\n",
    "\n",
    "    # Threshold x gradient\n",
    "    sobel_kernel=3\n",
    "    sx_thresh=(20, 255)\n",
    "    sobelx = cv2.Sobel(l_channel, cv2.CV_64F, 1, 0, ksize=sobel_kernel)    \n",
    "    abs_sobelx = np.absolute(sobelx)\n",
    "    scaled_sobelx = np.uint8(255 * abs_sobelx / np.max(abs_sobelx))    \n",
    "    sx_binary = np.zeros_like(scaled_sobelx)\n",
    "    sx_binary[(l_channel >= 150) & (s_channel >= 5) & (scaled_sobelx >= sx_thresh[0]) & (scaled_sobelx <= sx_thresh[1])] = 1\n",
    "    \n",
    "    # Stack each channel\n",
    "    color_binary = np.dstack((sx_binary, l_binary, yellow_binary))\n",
    "    binary_img = np.zeros((height, width))\n",
    "    binary_img[(sx_binary == 1) | (yellow_binary == 1) | (l_binary == 1)] = 1\n",
    "    return region_of_interest(binary_img), color_binary"
   ]
  },
  {
   "cell_type": "code",
   "execution_count": null,
   "metadata": {
    "collapsed": false
   },
   "outputs": [],
   "source": [
    "img = cv2.imread('challenge_images/img1.png')\n",
    "undist = undistort(img, mtx, dist)\n",
    "binary_img, color_binary = threshold(undist)\n",
    "\n",
    "f, ax = plt.subplots(1, 1, figsize=(32, 32))\n",
    "f.tight_layout()\n",
    "ax.imshow(binary_img)\n",
    "ax.set_title('Binary Image', fontsize=50)"
   ]
  },
  {
   "cell_type": "code",
   "execution_count": null,
   "metadata": {
    "collapsed": true
   },
   "outputs": [],
   "source": [
    "def perspective(img, M):\n",
    "    \"\"\"\n",
    "        Apply a perspective transform to rectify binary image (\"birds-eye view\").\n",
    "    \"\"\"\n",
    "    return cv2.warpPerspective(img, M, (width, height), flags=cv2.INTER_NEAREST)"
   ]
  },
  {
   "cell_type": "code",
   "execution_count": null,
   "metadata": {
    "collapsed": false
   },
   "outputs": [],
   "source": [
    "# define 4 source points src = np.float32([[,],[,],[,],[,]])\n",
    "src = np.float32([[1110, height], [690, 450], [595, 450], [220, height]])\n",
    "# define 4 destination points dst = np.float32([[,],[,],[,],[,]])\n",
    "dst = np.float32([[1000, height], [1000, 0], [300, 0], [300, height]])\n",
    "\n",
    "# use cv2.getPerspectiveTransform() to get M, the transform matrix\n",
    "M = cv2.getPerspectiveTransform(src, dst)\n",
    "Minv = cv2.getPerspectiveTransform(dst, src)"
   ]
  },
  {
   "cell_type": "code",
   "execution_count": null,
   "metadata": {
    "collapsed": false
   },
   "outputs": [],
   "source": [
    "img = cv2.imread('test_images/straight_lines1.jpg')\n",
    "undist = undistort(img, mtx, dist)\n",
    "warped = perspective(undist, M)\n",
    "\n",
    "cv2.polylines(img, np.int32([src]), 1, (255,0,0), thickness=5)\n",
    "cv2.polylines(warped, np.int32([dst]), 1, (255,0,0), thickness=5)\n",
    "\n",
    "f, (ax1, ax2) = plt.subplots(1, 2, figsize=(32, 32))\n",
    "f.tight_layout()\n",
    "ax1.imshow(undist)\n",
    "ax1.imshow(img)\n",
    "ax1.set_title('Original Image', fontsize=50)\n",
    "ax2.imshow(warped)\n",
    "ax1.set_title('Warped Image', fontsize=50)"
   ]
  },
  {
   "cell_type": "code",
   "execution_count": null,
   "metadata": {
    "collapsed": false
   },
   "outputs": [],
   "source": [
    "def window_mask(width, height, img_ref, center, level):\n",
    "    output = np.zeros_like(img_ref)\n",
    "    output[int(img_ref.shape[0]-(level+1)*height):int(img_ref.shape[0]-level*height),max(0,int(center-width/2)):min(int(center+width/2),img_ref.shape[1])] = 1\n",
    "    return output\n",
    "\n",
    "def find_window_centroids(image, window_width, window_height, margin):    \n",
    "    window_centroids = [] # Store the (left,right) window centroid positions per level\n",
    "    window = np.ones(window_width) # Create our window template that we will use for convolutions\n",
    "    \n",
    "    # First find the two starting positions for the left and right lane by using np.sum to get the vertical image slice\n",
    "    # and then np.convolve the vertical image slice with the window template \n",
    "    \n",
    "    # Sum quarter bottom of image to get slice, could use a different ratio\n",
    "    l_sum = np.sum(image[int(3*image.shape[0]/4):,:int(image.shape[1]/2)], axis=0)\n",
    "    l_center = np.argmax(np.convolve(window, l_sum))-window_width/2\n",
    "    r_sum = np.sum(image[int(3*image.shape[0]/4):,int(image.shape[1]/2):], axis=0)\n",
    "    r_center = np.argmax(np.convolve(window,r_sum))-window_width/2+int(image.shape[1]/2)\n",
    "    \n",
    "    # Add what we found for the first layer\n",
    "    window_centroids.append((l_center, r_center))\n",
    "    \n",
    "    # Go through each layer looking for max pixel locations\n",
    "    for level in range(1,(int)(image.shape[0]/window_height)):\n",
    "        # convolve the window into the vertical slice of the image\n",
    "        image_layer = np.sum(image[int(image.shape[0]-(level+1)*window_height):int(image.shape[0]-level*window_height),:], axis=0)\n",
    "        conv_signal = np.convolve(window, image_layer)\n",
    "        \n",
    "        # Find the best left centroid by using past left center as a reference\n",
    "        # Use window_width/2 as offset because convolution signal reference is at right side of window, not center of window\n",
    "        offset = window_width/2\n",
    "        l_min_index = int(max(l_center+offset-margin,0))\n",
    "        l_max_index = int(min(l_center+offset+margin,warped.shape[1]))\n",
    "        l_center = np.argmax(conv_signal[l_min_index:l_max_index]) + l_min_index - offset\n",
    "        l_max = np.amax(conv_signal[l_min_index:l_max_index])\n",
    "        \n",
    "        # Find the best right centroid by using past right center as a reference\n",
    "        r_min_index = int(max(r_center+offset-margin,0))\n",
    "        r_max_index = int(min(r_center+offset+margin,warped.shape[1]))\n",
    "        r_center = np.argmax(conv_signal[r_min_index:r_max_index]) + r_min_index - offset\n",
    "        r_max = np.amax(conv_signal[r_min_index:r_max_index])\n",
    "        \n",
    "        l_center = -1 if l_max == 0 else l_center\n",
    "        r_center = -1 if r_max == 0 else r_center\n",
    "        if l_center == -1 and r_center != -1:\n",
    "            l_center = np.argmax(conv_signal[r_min_index:r_max_index]) + l_min_index - offset\n",
    "            \n",
    "        if r_center == -1 and l_center != -1:\n",
    "            r_center = np.argmax(conv_signal[l_min_index:l_max_index]) + r_min_index - offset\n",
    "        \n",
    "        # Add what we found for that layer\n",
    "        window_centroids.append((l_center,r_center))\n",
    "    return window_centroids"
   ]
  },
  {
   "cell_type": "code",
   "execution_count": null,
   "metadata": {
    "collapsed": true
   },
   "outputs": [],
   "source": [
    "def plot_window_centroids(img, window_centroids):\n",
    "    # If we found any window centers\n",
    "    if len(window_centroids) > 0:\n",
    "        # Points used to draw all the left and right windows\n",
    "        l_points = np.zeros_like(img)\n",
    "        r_points = np.zeros_like(img)\n",
    "\n",
    "        # Go through each level and draw the windows\n",
    "        for level in range(0,len(window_centroids)):\n",
    "            left, right = window_centroids[level]\n",
    "            # Window_mask is a function to draw window areas\n",
    "            # Add graphic points from window mask here to total pixels found\n",
    "            if left > 0:\n",
    "                l_mask = window_mask(window_width,window_height,warped,window_centroids[level][0],level)\n",
    "                l_points[(l_points == 255) | ((l_mask == 1) ) ] = 255\n",
    "            if right > 0:\n",
    "                r_mask = window_mask(window_width,window_height,warped,window_centroids[level][1],level)\n",
    "                r_points[(r_points == 255) | ((r_mask == 1) ) ] = 255\n",
    "\n",
    "        # Draw the results\n",
    "        template = np.array(r_points+l_points,np.uint8) # add both left and right window pixels together\n",
    "        zero_channel = np.zeros_like(template) # create a zero color channel \n",
    "        template = np.array(cv2.merge((zero_channel,template,zero_channel)),np.uint8) # make window pixels green\n",
    "        warpage = np.array(cv2.merge((img,img,img)),np.uint8) # making the original road pixels 3 color channels\n",
    "        output = cv2.addWeighted(warpage, 1, template, 0.5, 0.0) # overlay the orignal road image with window results\n",
    "    else:\n",
    "        # If no window centers found, just display orginal road image\n",
    "        output = np.array(cv2.merge((img,img,img)),np.uint8)\n",
    "    return output, np.nonzero(l_points), np.nonzero(r_points)"
   ]
  },
  {
   "cell_type": "code",
   "execution_count": null,
   "metadata": {
    "collapsed": false
   },
   "outputs": [],
   "source": [
    "def curvature(img, left, right):\n",
    "    ploty = np.linspace(0, 719, num=720)\n",
    "    lefty, leftx = left\n",
    "    righty, rightx = right\n",
    "    \n",
    "    # Fit a second order polynomial to pixel positions in each fake lane line\n",
    "    left_fit = np.polyfit(lefty, leftx, 2)\n",
    "    right_fit = np.polyfit(righty, rightx, 2)\n",
    "\n",
    "    left_fitx = left_fit[0]*ploty**2 + left_fit[1]*ploty + left_fit[2]\n",
    "    right_fitx = right_fit[0]*ploty**2 + right_fit[1]*ploty + right_fit[2]\n",
    "    \n",
    "    left_pts = np.array([(y, x) for y,x in zip(left_fitx, ploty)], np.int32)\n",
    "    right_pts = np.array([(y, x) for y,x in zip(right_fitx, ploty)], np.int32)\n",
    "    #cv2.polylines(img, [left_pts], False, (255, 0, 0), thickness=10)\n",
    "    #cv2.polylines(img, [right_pts], False, (255, 0, 0), thickness=10)\n",
    "\n",
    "    y_eval = np.max(ploty)\n",
    "    left_curverad = ((1 + (2*left_fit[0]*y_eval + left_fit[1])**2)**1.5) / np.absolute(2*left_fit[0])\n",
    "    right_curverad = ((1 + (2*right_fit[0]*y_eval + right_fit[1])**2)**1.5) / np.absolute(2*right_fit[0])\n",
    "    #print(left_curverad, right_curverad)\n",
    "\n",
    "    # Define conversions in x and y from pixels space to meters\n",
    "    ym_per_pix = 30/720 # meters per pixel in y dimension\n",
    "    xm_per_pix = 3.7/700 # meters per pixel in x dimension\n",
    "    \n",
    "    # Fit new polynomials to x,y in world space\n",
    "    left_fit_cr = np.polyfit(np.array(lefty)*ym_per_pix, np.array(leftx)*xm_per_pix, 2)\n",
    "    right_fit_cr = np.polyfit(np.array(righty)*ym_per_pix, np.array(rightx)*xm_per_pix, 2)\n",
    "\n",
    "    # Calculate the new radii of curvature\n",
    "    left_curverad_real = ((1 + (2*left_fit_cr[0]*y_eval*ym_per_pix + left_fit_cr[1])**2)**1.5) / np.absolute(2*left_fit_cr[0])\n",
    "    right_curverad_real = ((1 + (2*right_fit_cr[0]*y_eval*ym_per_pix + right_fit_cr[1])**2)**1.5) / np.absolute(2*right_fit_cr[0])\n",
    "    # Now our radius of curvature is in meters\n",
    "    #print(left_curverad_real, 'm', right_curverad_real, 'm')\n",
    "    return img, left_fitx, right_fitx"
   ]
  },
  {
   "cell_type": "code",
   "execution_count": null,
   "metadata": {
    "collapsed": false
   },
   "outputs": [],
   "source": [
    "def draw(img, left_fitx, right_fitx):\n",
    "    # Create an image to draw the lines on\n",
    "    ploty = np.linspace(0, 719, num=720)\n",
    "    img_zero = np.zeros_like(img).astype(np.uint8)\n",
    "\n",
    "    # Draw the lane onto the warped blank image\n",
    "    #cv2.polylines(img_zero, [pts_left], False, (255, 0, 0), thickness=25)\n",
    "    #cv2.polylines(img_zero, [pts_right], False, (255, 0, 0), thickness=25)\n",
    "    \n",
    "    # Recast the x and y points into usable format for cv2.fillPoly()\n",
    "    pts_left = np.array([np.transpose(np.vstack([left_fitx, ploty]))])\n",
    "    pts_right = np.array([np.flipud(np.transpose(np.vstack([right_fitx, ploty])))])\n",
    "    pts = np.hstack((pts_left, pts_right))\n",
    "\n",
    "    # Draw the lane onto the warped blank image\n",
    "    cv2.fillPoly(img_zero, np.int_([pts]), (0,255, 0))\n",
    "\n",
    "    # Warp the blank back to original image space using inverse perspective matrix (Minv)\n",
    "    newwarp = cv2.warpPerspective(img_zero, Minv, (width, height))\n",
    "    \n",
    "    # Combine the result with the original image\n",
    "    result = cv2.addWeighted(img, 1, newwarp, 0.3, 0)\n",
    "    return result"
   ]
  },
  {
   "cell_type": "code",
   "execution_count": null,
   "metadata": {
    "collapsed": false
   },
   "outputs": [],
   "source": [
    "# window settings\n",
    "window_width = 25\n",
    "window_height = 80 # Break image into 9 vertical layers since image height is 720\n",
    "margin = 25 # How much to slide left and right for searching\n",
    "\n",
    "img = cv2.imread('challenge_images/img1.png')\n",
    "undist = undistort(img, mtx, dist)\n",
    "binary_img, color_binary = threshold(undist)\n",
    "warped = perspective(binary_img, M)\n",
    "\n",
    "window_centroids = find_window_centroids(warped, window_width, window_height, margin)\n",
    "output, left, right = plot_window_centroids(warped, window_centroids)\n",
    "result_warped, left_pts, right_pts = curvature(undist, left, right)\n",
    "result = draw(undist, left_pts, right_pts)\n",
    "\n",
    "# Display the final results\n",
    "plt.imshow(output)\n",
    "plt.title('window fitting results')\n",
    "plt.show()"
   ]
  },
  {
   "cell_type": "code",
   "execution_count": null,
   "metadata": {
    "collapsed": true
   },
   "outputs": [],
   "source": [
    "def process_image(img):\n",
    "    undist = undistort(img, mtx, dist)\n",
    "    rgb_undist = cv2.cvtColor(undist, cv2.COLOR_BGR2RGB)\n",
    "    binary_img, color_binary = threshold(undist)\n",
    "    warped = perspective(binary_img, M)\n",
    "    window_centroids = find_window_centroids(warped, window_width, window_height, margin)\n",
    "    output, left, right = plot_window_centroids(warped, window_centroids)\n",
    "    result_warped, left_pts, right_pts = curvature(undist, left, right)\n",
    "    result = draw(rgb_undist, left_pts, right_pts)\n",
    "    return result"
   ]
  },
  {
   "cell_type": "code",
   "execution_count": null,
   "metadata": {
    "collapsed": false
   },
   "outputs": [],
   "source": [
    "images = os.listdir('challenge_images/')\n",
    "f, ax = plt.subplots(len(images), 1, figsize=(32, 32))\n",
    "\n",
    "for idx in range(len(images)):\n",
    "    filename = os.path.join('challenge_images', images[idx])\n",
    "    img = cv2.imread(filename)\n",
    "    result = process_image(img)\n",
    "    #ax[idx, 0].imshow(img)\n",
    "    ax[idx].imshow(result)\n",
    "    ax[idx].set_title(images[idx], fontsize=50)"
   ]
  },
  {
   "cell_type": "code",
   "execution_count": null,
   "metadata": {
    "collapsed": true
   },
   "outputs": [],
   "source": [
    "# Import everything needed to edit/save/watch video clips\n",
    "from moviepy.editor import VideoFileClip\n",
    "from IPython.display import HTML"
   ]
  },
  {
   "cell_type": "code",
   "execution_count": null,
   "metadata": {
    "collapsed": false
   },
   "outputs": [],
   "source": [
    "output = 'output.mp4'\n",
    "clip1 = VideoFileClip(\"challenge.mp4\")\n",
    "output_clip = clip1.fl_image(process_image) #NOTE: this function expects color images!!\n",
    "%time output_clip.write_videofile(output, audio=False)"
   ]
  }
 ],
 "metadata": {
  "anaconda-cloud": {},
  "kernelspec": {
   "display_name": "Python [conda root]",
   "language": "python",
   "name": "conda-root-py"
  },
  "language_info": {
   "codemirror_mode": {
    "name": "ipython",
    "version": 3
   },
   "file_extension": ".py",
   "mimetype": "text/x-python",
   "name": "python",
   "nbconvert_exporter": "python",
   "pygments_lexer": "ipython3",
   "version": "3.5.2"
  }
 },
 "nbformat": 4,
 "nbformat_minor": 1
}
